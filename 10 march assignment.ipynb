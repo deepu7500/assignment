{
 "cells": [
  {
   "cell_type": "markdown",
   "id": "0e99ac6f",
   "metadata": {},
   "source": [
    "# ans 1->\n",
    "estimation in stastistics is numerous procedure used to calculate the value of some property of a population \n",
    "        from observation of a sample drawn from the population.and estimation is a numerical value used to estimate\n",
    "        unknown population parameter.\n",
    "        there are two types of estimation-\n",
    "    (1) point estimation - a point estimation of a population parameter is a single value used to estimate the \n",
    "                           unknown population.\n",
    "    (2)interval estimation - it provide a range of values used to estimate or calculate the unknown population parameters\n",
    "                             for example - the mean(average)-of a population by computing range.\n",
    "                 "
   ]
  },
  {
   "cell_type": "markdown",
   "id": "ab822ae2",
   "metadata": {},
   "source": [
    "# ans 2-> "
   ]
  },
  {
   "cell_type": "code",
   "execution_count": 17,
   "id": "0901656d",
   "metadata": {},
   "outputs": [
    {
     "name": "stdout",
     "output_type": "stream",
     "text": [
      "Estimated Population Mean: 65\n",
      "Confidence Interval: (63.868629150101526, 66.13137084989847)\n"
     ]
    }
   ],
   "source": [
    "import math\n",
    "\n",
    "def estimate_population_mean(sample_mean, sample_std_deviation, sample_size):\n",
    "    # Calculate the standard error\n",
    "    standard_error = sample_std_deviation / math.sqrt(sample_size)\n",
    "    \n",
    "    # Calculate the lower and upper bounds of the estimate\n",
    "    lower_bound = sample_mean - standard_error\n",
    "    upper_bound = sample_mean + standard_error\n",
    "    \n",
    "    # Return the estimate as a tuple (mean, lower_bound, upper_bound)\n",
    "    return sample_mean, lower_bound, upper_bound\n",
    "\n",
    "# Example usage:\n",
    "sample_mean = 65\n",
    "sample_std_deviation = 8\n",
    "sample_size = 50\n",
    "\n",
    "mean_estimate, lower_bound, upper_bound = estimate_population_mean(sample_mean, sample_std_deviation, sample_size)\n",
    "\n",
    "print(f\"Estimated Population Mean: {mean_estimate}\")\n",
    "print(f\"Confidence Interval: ({lower_bound}, {upper_bound})\")"
   ]
  },
  {
   "cell_type": "markdown",
   "id": "ff0fee1d",
   "metadata": {},
   "source": [
    "# ans 3->\n",
    "Hypotesis testing- it is a form of statistical inferences that uses data from a sample to draw conclusions about \n",
    "         a population parameter or a population probability distribution.\n",
    "    It is used to support scientific research and create breakthroughs in knowledge.\n",
    "* Importance-->\n",
    "                (1)it helps to assume the probability of research failure and progress.\n",
    "                (2) it helps to provide link to the underlying theory and specific research question.\n",
    "                (3)it helps in data analysis and measures the validity and reliability of the research.\n",
    "    "
   ]
  },
  {
   "cell_type": "markdown",
   "id": "fd44c5db",
   "metadata": {},
   "source": [
    "# ans 4-\n"
   ]
  },
  {
   "cell_type": "markdown",
   "id": "d976e257",
   "metadata": {},
   "source": [
    "* null hypothesis - The average weight of male college students is equal to or less than the average weight of female college students.\n",
    "\n",
    "*  alternate hypotheesis - The average weight of male college students is greater than the average weight of female college students.\n"
   ]
  },
  {
   "cell_type": "markdown",
   "id": "7ce62715",
   "metadata": {},
   "source": [
    "# ans 6->\n",
    "null hypothesis of a test always predict that there is no effect or no relation between variables andd population.\n",
    "alternative hypothesis predict that there is effect on population and relation in variables.\n",
    "null hypothesis and alternative hypothesis are work alternative of each other.if null hypthesis is accepted then alternative\n",
    "hypothesis is rejected\n",
    "for an example -   as per null hypothesis,there is no change in water quality in the first half of the year as compared to \n",
    "                  the second half.but in alternative hypothesis,the quality of water is poor in the second half when observed."
   ]
  },
  {
   "cell_type": "markdown",
   "id": "17005824",
   "metadata": {},
   "source": [
    "# ans 7->\n",
    "some steps involve in hypostesis testing are\n",
    "\n",
    "1. specify the hypothesis i.e. null or alternative\n",
    "2. choose a significance level for the test\n",
    "3. collect a sample of data and compute the test statistic\n",
    "4. compute the critical value\n",
    "5. compare the test statistic to the critical value\n",
    "6. interpret the result and draw conclusion"
   ]
  },
  {
   "cell_type": "markdown",
   "id": "061ddfbb",
   "metadata": {},
   "source": [
    "# ans 8->  \n",
    "P-value is defined as the measure of the probability that an observed difference might have occurred just by \n",
    "random chance. p value helps to find out how likely a particular set of observation occured.\n",
    "p values used in statistical hypothesis testing to reject the null hypothesis.the smaller the p-value,the stronger \n",
    "the likelihood that you should reject the null hypothesis and greater the statistical significance of the observed difference.\n"
   ]
  },
  {
   "cell_type": "markdown",
   "id": "263ef577",
   "metadata": {},
   "source": [
    "# ans 9->"
   ]
  },
  {
   "cell_type": "code",
   "execution_count": 1,
   "id": "b1217208",
   "metadata": {},
   "outputs": [
    {
     "ename": "FileNotFoundError",
     "evalue": "[WinError 2] The system cannot find the file specified: 'C:\\\\Users\\\\User\\\\AppData\\\\Roaming\\\\Python\\\\Python311\\\\site-packages\\\\matplotlib.libs'",
     "output_type": "error",
     "traceback": [
      "\u001b[1;31m---------------------------------------------------------------------------\u001b[0m",
      "\u001b[1;31mFileNotFoundError\u001b[0m                         Traceback (most recent call last)",
      "Cell \u001b[1;32mIn[1], line 2\u001b[0m\n\u001b[0;32m      1\u001b[0m \u001b[38;5;28;01mimport\u001b[39;00m \u001b[38;5;21;01mnumpy\u001b[39;00m \u001b[38;5;28;01mas\u001b[39;00m \u001b[38;5;21;01mnp\u001b[39;00m\n\u001b[1;32m----> 2\u001b[0m \u001b[38;5;28;01mimport\u001b[39;00m \u001b[38;5;21;01mmatplotlib\u001b[39;00m\u001b[38;5;21;01m.\u001b[39;00m\u001b[38;5;21;01mpyplot\u001b[39;00m \u001b[38;5;28;01mas\u001b[39;00m \u001b[38;5;21;01mplt\u001b[39;00m\n\u001b[0;32m      3\u001b[0m \u001b[38;5;28;01mfrom\u001b[39;00m \u001b[38;5;21;01mscipy\u001b[39;00m \u001b[38;5;28;01mimport\u001b[39;00m stats\n\u001b[0;32m      4\u001b[0m \u001b[38;5;28;01mimport\u001b[39;00m \u001b[38;5;21;01mpandas\u001b[39;00m \u001b[38;5;28;01mas\u001b[39;00m \u001b[38;5;21;01mpd\u001b[39;00m\n",
      "File \u001b[1;32m~\\AppData\\Roaming\\Python\\Python311\\site-packages\\matplotlib\\__init__.py:117\u001b[0m\n\u001b[0;32m    113\u001b[0m     \u001b[38;5;28;01mif\u001b[39;00m \u001b[38;5;129;01mnot\u001b[39;00m is_pyinstaller \u001b[38;5;129;01mor\u001b[39;00m os\u001b[38;5;241m.\u001b[39mpath\u001b[38;5;241m.\u001b[39misdir(libs_dir):\n\u001b[0;32m    114\u001b[0m         os\u001b[38;5;241m.\u001b[39madd_dll_directory(libs_dir)\n\u001b[1;32m--> 117\u001b[0m \u001b[43m_delvewheel_init_patch_1_3_0\u001b[49m\u001b[43m(\u001b[49m\u001b[43m)\u001b[49m\n\u001b[0;32m    118\u001b[0m \u001b[38;5;28;01mdel\u001b[39;00m _delvewheel_init_patch_1_3_0\n\u001b[0;32m    119\u001b[0m \u001b[38;5;66;03m# end delvewheel patch\u001b[39;00m\n",
      "File \u001b[1;32m~\\AppData\\Roaming\\Python\\Python311\\site-packages\\matplotlib\\__init__.py:114\u001b[0m, in \u001b[0;36m_delvewheel_init_patch_1_3_0\u001b[1;34m()\u001b[0m\n\u001b[0;32m    112\u001b[0m is_pyinstaller \u001b[38;5;241m=\u001b[39m \u001b[38;5;28mgetattr\u001b[39m(sys, \u001b[38;5;124m'\u001b[39m\u001b[38;5;124mfrozen\u001b[39m\u001b[38;5;124m'\u001b[39m, \u001b[38;5;28;01mFalse\u001b[39;00m) \u001b[38;5;129;01mand\u001b[39;00m \u001b[38;5;28mhasattr\u001b[39m(sys, \u001b[38;5;124m'\u001b[39m\u001b[38;5;124m_MEIPASS\u001b[39m\u001b[38;5;124m'\u001b[39m)\n\u001b[0;32m    113\u001b[0m \u001b[38;5;28;01mif\u001b[39;00m \u001b[38;5;129;01mnot\u001b[39;00m is_pyinstaller \u001b[38;5;129;01mor\u001b[39;00m os\u001b[38;5;241m.\u001b[39mpath\u001b[38;5;241m.\u001b[39misdir(libs_dir):\n\u001b[1;32m--> 114\u001b[0m     \u001b[43mos\u001b[49m\u001b[38;5;241;43m.\u001b[39;49m\u001b[43madd_dll_directory\u001b[49m\u001b[43m(\u001b[49m\u001b[43mlibs_dir\u001b[49m\u001b[43m)\u001b[49m\n",
      "File \u001b[1;32m<frozen os>:1119\u001b[0m, in \u001b[0;36madd_dll_directory\u001b[1;34m(path)\u001b[0m\n",
      "\u001b[1;31mFileNotFoundError\u001b[0m: [WinError 2] The system cannot find the file specified: 'C:\\\\Users\\\\User\\\\AppData\\\\Roaming\\\\Python\\\\Python311\\\\site-packages\\\\matplotlib.libs'"
     ]
    }
   ],
   "source": [
    "import numpy as np\n",
    "import matplotlib.pyplot as plt\n",
    "from scipy import stats\n",
    "import pandas as pd"
   ]
  },
  {
   "cell_type": "code",
   "execution_count": 26,
   "id": "04a3a23f",
   "metadata": {},
   "outputs": [
    {
     "name": "stdout",
     "output_type": "stream",
     "text": [
      "Note: you may need to restart the kernel to use updated packages.\n"
     ]
    },
    {
     "name": "stderr",
     "output_type": "stream",
     "text": [
      "WARNING: Ignoring invalid distribution ~atplotlib (C:\\Users\\User\\AppData\\Roaming\\Python\\Python311\\site-packages)\n",
      "ERROR: Invalid requirement: 'matplotlib!'\n",
      "WARNING: Ignoring invalid distribution ~atplotlib (C:\\Users\\User\\AppData\\Roaming\\Python\\Python311\\site-packages)\n"
     ]
    }
   ],
   "source": [
    "pip install matplotlib!"
   ]
  },
  {
   "cell_type": "code",
   "execution_count": null,
   "id": "2864f9b5",
   "metadata": {},
   "outputs": [],
   "source": [
    "firstT = stats.t.pdf(x,10)\n"
   ]
  },
  {
   "cell_type": "code",
   "execution_count": 19,
   "id": "55f3c938",
   "metadata": {},
   "outputs": [
    {
     "ename": "NameError",
     "evalue": "name 'plt' is not defined",
     "output_type": "error",
     "traceback": [
      "\u001b[1;31m---------------------------------------------------------------------------\u001b[0m",
      "\u001b[1;31mNameError\u001b[0m                                 Traceback (most recent call last)",
      "Cell \u001b[1;32mIn[19], line 1\u001b[0m\n\u001b[1;32m----> 1\u001b[0m \u001b[43mplt\u001b[49m\u001b[38;5;241m.\u001b[39mplot(x,firstT)\n",
      "\u001b[1;31mNameError\u001b[0m: name 'plt' is not defined"
     ]
    }
   ],
   "source": [
    "plt.plot(x,firstT)"
   ]
  },
  {
   "cell_type": "markdown",
   "id": "0dc4a47e",
   "metadata": {},
   "source": [
    "# ans 10-> \n",
    "python program to calculate two sample test"
   ]
  },
  {
   "cell_type": "code",
   "execution_count": 23,
   "id": "3263d42f",
   "metadata": {},
   "outputs": [],
   "source": [
    "import numpy as np\n",
    "import scipy as scipy\n",
    "from scipy import stats\n",
    "import pandas  as pd\n",
    "\n",
    "population1 =14, 15, 15, 16, 13, 8, 14, 17, 16, 14, 19, 20, 21, 15, 15, 16, 16, 13, 14, 12\n",
    "population2 = 15, 17, 14, 17, 14, 8, 12, 19, 19, 14, 17, 22, 24, 16, 13, 16, 13, 18, 15, 13\n"
   ]
  },
  {
   "cell_type": "code",
   "execution_count": 22,
   "id": "9c9e3ba5",
   "metadata": {},
   "outputs": [],
   "source": [
    "## null phypthesis mean of group1 =mean of group2\n",
    "##alternste hypothesis meam of group1=/ mean of group2"
   ]
  },
  {
   "cell_type": "code",
   "execution_count": 8,
   "id": "870cac6a",
   "metadata": {},
   "outputs": [
    {
     "data": {
      "text/plain": [
       "Ttest_indResult(statistic=-0.6337397070250238, pvalue=0.5300471010405257)"
      ]
     },
     "execution_count": 8,
     "metadata": {},
     "output_type": "execute_result"
    }
   ],
   "source": [
    "stats.ttest_ind(population1,population2,equal_var=True)"
   ]
  },
  {
   "cell_type": "markdown",
   "id": "eeb57297",
   "metadata": {},
   "source": [
    "here the p value (0.5300) is greater than 0.05 so we fail to reject to the null hypothesis the mean of population mean is not \n",
    "equal."
   ]
  },
  {
   "cell_type": "markdown",
   "id": "217f8719",
   "metadata": {},
   "source": [
    "# ans 11->\n",
    "students's t-distribution is a hypothetical  pobability distribution.it is used to make presumptions about a mean    when standard deviation is not known to us.it is symmetrical,bell-shaped distribution,similar to standard normal curve. the student t distribution is similar to normal distriution but flatter and shorter than normal distribution.\n",
    " \n",
    "  uses of student t distribution\n",
    "  (1)when the standard deviation is not known  then t distribution is used\n",
    "  (2)when the sample size is smal i.e.(n<30). "
   ]
  },
  {
   "cell_type": "markdown",
   "id": "08b4d2d5",
   "metadata": {},
   "source": [
    "# ans 12->\n",
    "the test statistic is a number calculated from a statistical test of a hypothesis.\n",
    "t statistic is used in a T test when you are deciding whether to support or reject the null hypothesis.it can be \n",
    "found in so many different ways.the yest statistic is used to calculate the p value.\n",
    "                                           \n",
    "Formula for t statistic                       \n",
    "   t= observed mean or sample mean - theortical mean or population mean/standard deviation*root(n)"
   ]
  },
  {
   "cell_type": "markdown",
   "id": "6e500d3a",
   "metadata": {},
   "source": [
    "# ans 13-\n",
    "* Sample Mean = 500\n",
    "* Standard Deviation = 50\n",
    "* Sample Size (n) = 50\n",
    "* Critical Value (Z) = 1.96\n",
    "\n",
    "Confidence Interval= sample mean +- Z* sd/root(n)\n",
    " = 500 +- 1.96*50/root(50)\n",
    "\n",
    "henca this is calacaluted and we find that estimated average daily income of coeffe shop ownwer is between $486.13 and $513.87"
   ]
  },
  {
   "cell_type": "markdown",
   "id": "f531e8fc",
   "metadata": {},
   "source": [
    "# ans 15-\n",
    "* null hpothesis - the true mean weight of the products is equal to 5 pounds.\n",
    "* alternative hypothesis -  the true mean is less than 5 pounds.\n",
    "\n",
    "* t = (sample mean - population mean)* root(sample size)/std \n",
    "\n",
    "sd=0.5  \n",
    "population mean=5\n",
    "sample size n=25\n",
    "Sample mean = 4.8\n",
    "\n",
    "t test= 4.8-5*25/0.5=-2\n",
    " \n",
    "    we find significance levrl at 0.01 at 24 degree of freedom is -2.492\n",
    "    \n",
    "    on comparing calculted t value with sugnficance itnerval -2>-2.492 we fail to reject the null hypothsis  "
   ]
  },
  {
   "cell_type": "markdown",
   "id": "39c9c11e",
   "metadata": {},
   "source": [
    "# ans 16-\n",
    "* n1=30,     n2=40\n",
    "* std1=10,    std2=8\n",
    "* mean1=80,   mean2=75\n",
    "* alpa=0.01\n",
    " "
   ]
  },
  {
   "cell_type": "code",
   "execution_count": null,
   "id": "f8615cb7",
   "metadata": {},
   "outputs": [],
   "source": [
    "t_test=mean1-mean2/root()"
   ]
  },
  {
   "cell_type": "markdown",
   "id": "75a5d8ec",
   "metadata": {},
   "source": [
    "# ans 17-\n",
    "* sample size(n)=50\n",
    "* sample mean=4\n",
    "* std=1.5\n",
    "* critical value for 99% ci(Z)= 2.576\n",
    "\n",
    "estimated confidence interval=sample mean+- Z(srd/n)\n",
    "\n",
    "=4 +-2.576*1.5/sqrt(50)\n",
    "\n",
    "Estimated CI is between 3.6186 and 4.3814."
   ]
  }
 ],
 "metadata": {
  "kernelspec": {
   "display_name": "Python 3 (ipykernel)",
   "language": "python",
   "name": "python3"
  },
  "language_info": {
   "codemirror_mode": {
    "name": "ipython",
    "version": 3
   },
   "file_extension": ".py",
   "mimetype": "text/x-python",
   "name": "python",
   "nbconvert_exporter": "python",
   "pygments_lexer": "ipython3",
   "version": "3.11.4"
  }
 },
 "nbformat": 4,
 "nbformat_minor": 5
}
