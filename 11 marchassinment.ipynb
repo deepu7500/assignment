{
 "cells": [
  {
   "cell_type": "markdown",
   "id": "fe12e9c6",
   "metadata": {},
   "source": [
    "# ans 1->\n",
    "The z test uses a normal distribution while the t test uses the Student's t distribution.\n",
    "Degrees of freedom are needed in t testing, not in z testing. The z statistic is calculated with the\n",
    "standard error. The t statistic uses the estimated standard error. The z test is used for testing proportions\n",
    "when np > 10 and n (1 - p) > 10.\n",
    "\n",
    "z-test is used for it when sample size is large, generally n >30. Whereas t-test is used for hypothesis\n",
    "testing when sample size is small, usually n < 30 where n is used to quantify the sample size."
   ]
  },
  {
   "cell_type": "markdown",
   "id": "400e6f68",
   "metadata": {},
   "source": [
    "# ans 2->\n",
    "The one-tailed test refers to a test of null hypothesis, in which the alternative hypothesis is\n",
    "    articulated directionally. Here, the critical region lies only on one tail. However, \n",
    "     if the alternative hypothesis is not exhibited directionally, then it is known as the two-tailed \n",
    "    test of the null hypothesis., wherein the critical region is one both the tails."
   ]
  },
  {
   "cell_type": "markdown",
   "id": "dd45dadc",
   "metadata": {},
   "source": [
    "# ans 3->\n",
    "Type I and type II errors occur during statistical hypothesis testing. While the type I error (a false positive) \n",
    "rejects a null hypothesis when it is, in fact, correct, the type II error (a false negative) fails to reject a \n",
    "false null hypothesis. \n",
    "\n",
    "For example->> a type I error would convict someone of a crime when they are actually innocent.\n",
    "A type II error would acquit a guilty individual when they are guilty of a crime."
   ]
  },
  {
   "cell_type": "markdown",
   "id": "c0d29884",
   "metadata": {},
   "source": [
    "# ans 4->\n",
    "In statistics and probability theory, the Bayes’ theorem or the Bayes’ rule is\n",
    "a mathematical formula used to determine the conditional probability of events. Essentially, the Bayes’ \n",
    "theorem describes the probability of an event based on prior knowledge of the conditions that might be relevant to the event.\n",
    "\n",
    "FORMULA \n",
    "\n",
    "P(A∣B)= P(B)/P(A)⋅P(B∣A)\n",
    " where:\n",
    "P(A)= The probability of A occurring\n",
    "P(B)= The probability of B occurring\n",
    "P(A∣B)=The probability of A given B\n",
    "P(B∣A)= The probability of B given A\n",
    "\n",
    "EXAMPLE-1)Three identical boxes contain red and white balls. The first box contains 3 red and 2 white balls,\n",
    "the second box has 4 red and 5 white balls, and the third box has 2 red and 4 white balls. A box is chosen\n",
    "very randomly and a ball is drawn from it. If the ball that is drawn out is red, what will be the probability \n",
    "that the second box is chosen?\n",
    "SOLUTIONS-)\n",
    "Let A₁, A₂, and A₃ represent the events of choosing the first, second, and third box respectively, and let X be \n",
    "the event of drawing a red ball from the chosen box.\n",
    "\n",
    "Then we are to find the value of P(A₂/X)\n",
    "\n",
    "Since the boxes are identical, hence  \n",
    "\n",
    "P(A₁) = P(A₂) = P(A₃) 1/3\n",
    "\n",
    "Again, by the problem\n",
    "\n",
    "P(X/A₁) = 3/3+2 = 3/5;          P(X/A₂) = 4/4+5 = 4/9; and           P(X/A₃) = 2/2+4 = ⅓\n",
    "\n",
    "Now, event X occurs if one of the mutually exclusive and exhaustive events A1, A2, and A3 occurs. Therefore,\n",
    "using Bayes’ theorem formula we get, \n",
    "\n",
    "P(A₂X)=P(A₂).P(XA₂)P(A₁).P(XA₁)+P(A₂).P(XA₂)+P(A₃).P(XA₃)=13.4913.35+13.49+13.13=496245=49×4562=1031\n",
    "\n",
    "\n"
   ]
  },
  {
   "cell_type": "markdown",
   "id": "70ba7d72",
   "metadata": {},
   "source": [
    "# ans 5->\n",
    "we construct a confidence interval to help estimate what the actual values of the unknown population mean.\n",
    "To calculate the confidence interval, go through the following procedure.\n",
    "\n",
    "Step 1: Find the number of observations n(sample space), mean X̄, and the standard deviation σ.\n",
    "Step 2: Decide the confidence interval of your choice. It should be either 95% or 99%. Then find the Z value for \n",
    "    the corresponding confidence interval given in the table.\n",
    "Step 3: Finally, substitute all the values in the formula.\n",
    "    \n",
    "    FORMULA for standard deviation = X̄ ± Zα/2 × [σ/√n]\n",
    "\n",
    "Where\n",
    "X̄ = Mean\n",
    "Z = Confidence coefficient\n",
    "α = Confidence level\n",
    "σ = Standard deviation\n",
    "N = sample space\n",
    "                       \n",
    "For example, if you are estimating a 95% confidence interval around the mean proportion of female babies\n",
    "born every year based on a random sample of babies, you might find an upper bound of 0.56 and a lower\n",
    "bound of 0.48. These are the upper and lower bounds of the confidence interval"
   ]
  },
  {
   "cell_type": "markdown",
   "id": "3439f557",
   "metadata": {},
   "source": [
    "# ans 7-\n",
    "* sample mean=50\n",
    "* std=5\n",
    "* CI= 95% so Z=1.96\n",
    "\n",
    "here sample size is not defined the size of CI is also depend on sample size as much the sample size is larger the CI has\n",
    "less data points and sample size is small the CI has more dta points.\n",
    "\n",
    "this shows that CI is inversely propotional on sample size."
   ]
  },
  {
   "cell_type": "markdown",
   "id": "11bcaa66",
   "metadata": {},
   "source": [
    "# ans -9\n",
    "* std=5\n",
    "* population mean (u)= 70\n",
    "* data points(x)=75\n",
    " \n",
    "    from calculating   Z score = x-u/std\n",
    "    \n",
    "    =75-70/5=1\n",
    "    \n",
    "    z score is 1 means that the data points is slightly higher than the \n",
    "    average value."
   ]
  },
  {
   "cell_type": "markdown",
   "id": "a37cd137",
   "metadata": {},
   "source": [
    "# ans 10-\n",
    "* assuming the hypothesis as-\n",
    "* null hypothesis - weight loss drug is effective and population mean is greater than 0.\n",
    "* alternate hypothesis - weight loss is not significantly effective and population mean is less than 0.\n",
    "  \n",
    "    the significance level is 0.05\n",
    "    \n",
    "    t=(x-u)*root(n)/std\n",
    "    \n",
    "    here u be taken as 0 , n=50,std=2.5, x=6\n",
    "* t=6-0*(root(50))/2.5    \n",
    "    = 16.95\n",
    "    \n",
    "*critical value = (n-1)  =(50-1) = 49\n",
    "CI given 95% so its value is 1.676\n",
    "\n",
    "* value is greater than critical value so we accept the null hypothsis \n",
    "and it state that the drug is effective in weight loss."
   ]
  },
  {
   "cell_type": "markdown",
   "id": "60931f33",
   "metadata": {},
   "source": [
    "# ans 11-"
   ]
  },
  {
   "cell_type": "markdown",
   "id": "4d778a93",
   "metadata": {},
   "source": [
    "# ans 12-\n",
    "let be take hypothesis\n",
    "* null hypothesis - two different teaching methods effects the student performance.\n",
    "* alternate hypothesis - two different teaching methods do not effects the student performance.\n",
    "\n",
    " t test value find as -\n",
    "    t=mean1-mean2/root( std1^2/assumed sample size  - std2^2/assumed sample size)\n",
    "    \n",
    "    let assumed sample size=100\n",
    "    \n",
    "    t=85-82/root(6^2/100 - 5^2/100)\n",
    "    \n",
    "    t=3.84\n",
    "    \n",
    "    critical value for significance level 0.01 is 2.33.\n",
    "    \n",
    "    hence t value is large than critical value so we accept the null hypothesis.\n",
    "    "
   ]
  },
  {
   "cell_type": "markdown",
   "id": "96a23088",
   "metadata": {},
   "source": [
    "# ans -13\n",
    "* population mean=60\n",
    "* std=8\n",
    "* sample mean=65\n",
    "* sample size=50\n",
    "ci =90%\n",
    "\n",
    "Confidence Interval =sample mean +- Z-value (std/roott(sample size))\n",
    "\n",
    "CI=65 +- 1.64(8/root(50))\n",
    "=65 +- 1.855\n",
    "\n",
    "confidence interval for true population is between 63.145 to 66.05."
   ]
  },
  {
   "cell_type": "markdown",
   "id": "60cd3488",
   "metadata": {},
   "source": [
    "# ans 14-\n",
    "null hypothesis- caffeine have significant effect on reaction time.\n",
    "population mean reaction time =0.25\n",
    "alternate hypothesis - caffeine have no significant effect on reaction time.\n",
    "population mean reaction time != 0.25.\n",
    "\n",
    "t test = (sample mean - population mean)/(std/root(sample size))\n",
    "t test= (0.25-0.25)/(0.05/root(30))\n",
    "=0\n",
    "\n",
    "given confidense level =90%\n",
    "\n",
    "so critical value for 90% CI with 29 degree of fredom for two tail test is 1.69 so CI lies between -1.69 to 1.69."
   ]
  },
  {
   "cell_type": "code",
   "execution_count": null,
   "id": "4ca05b16",
   "metadata": {},
   "outputs": [],
   "source": []
  }
 ],
 "metadata": {
  "kernelspec": {
   "display_name": "Python 3 (ipykernel)",
   "language": "python",
   "name": "python3"
  },
  "language_info": {
   "codemirror_mode": {
    "name": "ipython",
    "version": 3
   },
   "file_extension": ".py",
   "mimetype": "text/x-python",
   "name": "python",
   "nbconvert_exporter": "python",
   "pygments_lexer": "ipython3",
   "version": "3.11.4"
  }
 },
 "nbformat": 4,
 "nbformat_minor": 5
}
