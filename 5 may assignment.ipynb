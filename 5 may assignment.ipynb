{
 "cells": [
  {
   "cell_type": "markdown",
   "id": "0ab2a565",
   "metadata": {},
   "source": [
    "What is meant by time-dependent seasonal components?\n",
    "# ans 1-\n",
    "Time-dependent seasonal components refer to patterns or variations in a dataset that repeat at regular intervals, typically over the course of a year, month, week, or even within a single day. These variations are influenced by external factors such as weather, holidays, cultural events, and other cyclic occurrences that have a recurring impact on the data.\n"
   ]
  },
  {
   "cell_type": "markdown",
   "id": "c977ea80",
   "metadata": {},
   "source": [
    "How can time-dependent seasonal components be identified in time series data?\n",
    "# ans 2-\n",
    "the identification of time-dependent seasonal components is not always straightforward, and a combination of approaches is often used to achieve the most accurate understanding.\n",
    "* visual inspection\n",
    "* autocorrelation analysis\n",
    "* decomposition techniques like seasonal decomposition and moving averages\n",
    "* statistical tests\n"
   ]
  },
  {
   "cell_type": "markdown",
   "id": "f460e3fd",
   "metadata": {},
   "source": [
    "# ans 3-\n",
    "Time-dependent seasonal components in a time series can be influenced by various factors like -\n",
    "* weather and climate\n",
    "* cultural and social factors\n",
    "* natural events \n",
    "* change in technologies"
   ]
  },
  {
   "cell_type": "markdown",
   "id": "46312623",
   "metadata": {},
   "source": [
    "# ans -4\n",
    "Autoregression models are  used in time series analysis and forecasting to capture the relationship between a variable's current value and its past values.The values are correlated with their own past values at certain lags."
   ]
  },
  {
   "cell_type": "markdown",
   "id": "0d10a92c",
   "metadata": {},
   "source": [
    "# ans - 5\n",
    "on the bases of past values and results we make predictions of future values and time points."
   ]
  },
  {
   "cell_type": "markdown",
   "id": "924d2ff4",
   "metadata": {},
   "source": [
    "# ans 6 -\n",
    "Moving average also known as error.MA models relate the current observation to past forecast errors.\n",
    "A Moving Average  model is a type of time series model used for analyzing and forecasting data that exhibits temporal patterns and fluctuations. \n",
    "\n",
    "AR models relate the current observation to past values of the time series itself.\n",
    "\n",
    "ARIMA models incorporate both autoregressive and moving average components, along with differencing to handle non-stationarity.\n",
    "\n",
    "Seasonal Autoregressive Integrated Moving Average (SARIMA) models extend ARIMA models to include seasonal patterns."
   ]
  },
  {
   "cell_type": "code",
   "execution_count": null,
   "id": "d050fd65",
   "metadata": {},
   "outputs": [],
   "source": [
    "# ans 7-\n",
    "ARMA (Auto Regressive Moving Average) Model\n",
    "This is a model that is combined from the AR and MA models. In this model, the impact of previous lags along with the residuals is considered for forecasting the future values of the time series.\n"
   ]
  }
 ],
 "metadata": {
  "kernelspec": {
   "display_name": "Python 3 (ipykernel)",
   "language": "python",
   "name": "python3"
  },
  "language_info": {
   "codemirror_mode": {
    "name": "ipython",
    "version": 3
   },
   "file_extension": ".py",
   "mimetype": "text/x-python",
   "name": "python",
   "nbconvert_exporter": "python",
   "pygments_lexer": "ipython3",
   "version": "3.11.4"
  }
 },
 "nbformat": 4,
 "nbformat_minor": 5
}
