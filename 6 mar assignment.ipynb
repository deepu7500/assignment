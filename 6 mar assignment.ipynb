{
 "cells": [
  {
   "cell_type": "markdown",
   "id": "13d281af",
   "metadata": {},
   "source": [
    "\n",
    "\n",
    "\n",
    "\n",
    "\n",
    "\n",
    "\n",
    "\n",
    "\n",
    "\n",
    "\n",
    "\n",
    "\n",
    "\n",
    "\n",
    "\n",
    "\n",
    "\n",
    "\n",
    "\n",
    "\n",
    "\n",
    "\n",
    "\n",
    "\n",
    "\n",
    "\n",
    "\n",
    "\n",
    "\n",
    "\n",
    "\n",
    " n -Saitcs is a branch that deals with the study of the collection, analysis, interpretation, organisation, and presentation of data. Mathematically, statistics is defined as the set of equations, which are used to analyse things.\n",
    "Statistics plays a crucial role in various fields such as science, social sciences, economics, medicine, business, and more."
   ]
  },
  {
   "cell_type": "markdown",
   "id": "98e7ab9a",
   "metadata": {},
   "source": [
    "# ans 2-\n",
    " Two types of stastics are-\n",
    "* descriptive statistic-\n",
    "examples-pdf,histogram,box plot etc.\n",
    "\n",
    "* inferential statistic-\n",
    "example-hypothesis testing, pvalues,z-test etc."
   ]
  },
  {
   "cell_type": "markdown",
   "id": "e5f48d37",
   "metadata": {},
   "source": [
    "# ans 3-\n",
    "data are facts or piece of information that can be measured\n",
    "\n",
    "there are 4 types of data in statistic are-\n",
    "* nominal data -  consist of categories\n",
    "* ordinal data - this used to represewnt information in defined order based on ranking\n",
    "* interval data - in this data is present in different intervals based with in the range defined according to order.\n",
    "* ratio data- this is used to compare the data on the bases of quantity\n"
   ]
  },
  {
   "cell_type": "markdown",
   "id": "8eb2b5e9",
   "metadata": {},
   "source": [
    "# ans 3-\n",
    "* 1- quality\n",
    "* 2- quality \n",
    "* 3- quantity\n",
    "* 4-quantity"
   ]
  },
  {
   "cell_type": "markdown",
   "id": "5e60767c",
   "metadata": {},
   "source": [
    "# ans 5-\n",
    "The concept of levels of measurement refers to the different ways in which data can be classified and measured.\n",
    "there are 4 levels of measurement-\n",
    "\n",
    "* nominal data - consist of categories\n",
    "\n",
    "example - categorical data-columns,gender,types of flower etc.\n",
    "* ordinal data - this used to represewnt information in defined order based on ranking\n",
    "\n",
    "example-roll.no,marks,student etc\n",
    "* interval data - in this data is present in different intervals based with in the range defined according to order.\n",
    "\n",
    "example- 10-20, 20-30, 40-50\n",
    "* ratio data- this is used to compare the data on the bases of quantity.\n",
    "\n",
    "\n",
    "ex - 4:6, 3:2:1,etc"
   ]
  },
  {
   "cell_type": "markdown",
   "id": "c8337edf",
   "metadata": {},
   "source": [
    "# ans 6-\n",
    "it helps to find the best statistical method to apply "
   ]
  },
  {
   "cell_type": "markdown",
   "id": "81f667c0",
   "metadata": {},
   "source": [
    "# ans 7-\n",
    "* In nominal data we make dufferenciate on the bases of categories ranking is not important.\n",
    "for an example we define gender into male and female thsi is nominal data.\n",
    "\n",
    "* in ordinal data we make differnciatyion on the bases of rankinf that is 1,2,3,4,5,5,6,7,8,9 etc.\n",
    "for an example toppers are chooosen on the bases of which is defined on the bases of marks."
   ]
  },
  {
   "cell_type": "markdown",
   "id": "8df0cebc",
   "metadata": {},
   "source": [
    "# ans 8- histogram "
   ]
  },
  {
   "cell_type": "markdown",
   "id": "928756ae",
   "metadata": {},
   "source": [
    "# ans 9-\n",
    "# descriptive statistics\n",
    "it is used to organize and summarize.descriptive statistics summarize and present data in a meaningful way .\n",
    "it measure central tendency,dispersion and differnt types of distribution.\n",
    "# inferential statistic\n",
    " it is used to form conclusion from measured.\n",
    " inferential statistics help make predictions and draw conclusions \n",
    " it measure confidence interval,hypothesis testing,and different type of tests."
   ]
  },
  {
   "cell_type": "markdown",
   "id": "dcc47651",
   "metadata": {},
   "source": [
    "# ans -\n",
    "The three commonly used measures of central tendency are the mean, median, and mode.\n",
    "* mean- it is used to calculate average of the data\n",
    "* median - it is used to divide the data itno equal iterval.\n",
    "* mode- it is used to find the most frequent value of the data.\n",
    "\n",
    "There are four frequently used measures of variability: the range, interquartile range, variance, and standard deviation.\n",
    "* range- it is the difference between highest and lowest value.\n",
    "* interquartile range- range of middle half of the distribution.\n",
    "* standard deviation- average distance between data points.high sd indicate more variablity or far data points from each other and low sd indicate low variablity or close data points.\n",
    "* variance- Variance measures the average squared deviation of each data point from the mean of the dataset."
   ]
  },
  {
   "cell_type": "code",
   "execution_count": null,
   "id": "9026b6d0",
   "metadata": {},
   "outputs": [],
   "source": []
  }
 ],
 "metadata": {
  "kernelspec": {
   "display_name": "Python 3 (ipykernel)",
   "language": "python",
   "name": "python3"
  },
  "language_info": {
   "codemirror_mode": {
    "name": "ipython",
    "version": 3
   },
   "file_extension": ".py",
   "mimetype": "text/x-python",
   "name": "python",
   "nbconvert_exporter": "python",
   "pygments_lexer": "ipython3",
   "version": "3.11.4"
  }
 },
 "nbformat": 4,
 "nbformat_minor": 5
}
