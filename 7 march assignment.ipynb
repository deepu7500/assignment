{
 "cells": [
  {
   "cell_type": "markdown",
   "id": "03c0d96f",
   "metadata": {},
   "source": [
    "# ans 1-\n",
    "3 measures of central tendency\n",
    "*  mean\n",
    "* median\n",
    "* mode"
   ]
  },
  {
   "cell_type": "markdown",
   "id": "be24ccde",
   "metadata": {},
   "source": [
    " # ans 2-\n",
    "    * mean measure the average of data.\n",
    "    * median measure the mid value of data.\n",
    "    * mode is used to measure the more frequentt value of dtatsset\n",
    "  using the formula of mean,medianmode we measure the value of central tendency\n",
    " * mean= sum of all  observation/no of total observation\n",
    "  * median= arrange the data in ascending and desending and find the mid value.\n",
    " * mode= find the value which is occuring more number of times."
   ]
  },
  {
   "cell_type": "markdown",
   "id": "2548e093",
   "metadata": {},
   "source": [
    "# ans 3-\n"
   ]
  },
  {
   "cell_type": "code",
   "execution_count": 3,
   "id": "cc769d3f",
   "metadata": {},
   "outputs": [
    {
     "data": {
      "text/plain": [
       "177.01875"
      ]
     },
     "execution_count": 3,
     "metadata": {},
     "output_type": "execute_result"
    }
   ],
   "source": [
    "import numpy as np\n",
    "import pandas as pd\n",
    "df=[ 178,177,176,177,178.2,178,175,179,180,175,178.9,176.2,177,172.5,178,176.5]\n",
    "np.mean(df)"
   ]
  },
  {
   "cell_type": "code",
   "execution_count": 4,
   "id": "24fb0b52",
   "metadata": {},
   "outputs": [
    {
     "data": {
      "text/plain": [
       "177.0"
      ]
     },
     "execution_count": 4,
     "metadata": {},
     "output_type": "execute_result"
    }
   ],
   "source": [
    "np.median(df)"
   ]
  },
  {
   "cell_type": "code",
   "execution_count": 5,
   "id": "38207e22",
   "metadata": {},
   "outputs": [
    {
     "data": {
      "text/plain": [
       "178"
      ]
     },
     "execution_count": 5,
     "metadata": {},
     "output_type": "execute_result"
    }
   ],
   "source": [
    "from statistics import mode\n",
    "mode(df)"
   ]
  },
  {
   "cell_type": "markdown",
   "id": "84128bf9",
   "metadata": {},
   "source": [
    "# ans 4-"
   ]
  },
  {
   "cell_type": "code",
   "execution_count": 6,
   "id": "9d6fe73c",
   "metadata": {},
   "outputs": [
    {
     "data": {
      "text/plain": [
       "1.7885814036548633"
      ]
     },
     "execution_count": 6,
     "metadata": {},
     "output_type": "execute_result"
    }
   ],
   "source": [
    "np.std(df)"
   ]
  },
  {
   "cell_type": "markdown",
   "id": "ee00a1be",
   "metadata": {},
   "source": [
    "# ans 5-\n",
    "A Venn diagram is a visual representation used to show the relationships between different sets or groups of items. It uses circles or other closed shapes to depict these sets and their intersections. \n"
   ]
  },
  {
   "cell_type": "markdown",
   "id": "062b5329",
   "metadata": {},
   "source": [
    "# ans 6-"
   ]
  },
  {
   "cell_type": "code",
   "execution_count": 7,
   "id": "7603146b",
   "metadata": {},
   "outputs": [
    {
     "data": {
      "text/plain": [
       "{0, 2, 3, 4, 5, 6, 7, 8, 10}"
      ]
     },
     "execution_count": 7,
     "metadata": {},
     "output_type": "execute_result"
    }
   ],
   "source": [
    "A = {2,3,4,5,6,7}\n",
    "B = {0,2,6,8,10}\n",
    "union=A.union(B)\n",
    "union"
   ]
  },
  {
   "cell_type": "code",
   "execution_count": 8,
   "id": "0f5bdc58",
   "metadata": {},
   "outputs": [
    {
     "data": {
      "text/plain": [
       "{2, 6}"
      ]
     },
     "execution_count": 8,
     "metadata": {},
     "output_type": "execute_result"
    }
   ],
   "source": [
    "A = {2,3,4,5,6,7}\n",
    "B = {0,2,6,8,10}\n",
    "intersection=A.intersection(B)\n",
    "intersection"
   ]
  },
  {
   "cell_type": "markdown",
   "id": "ac656721",
   "metadata": {},
   "source": [
    "# ans 8-\n",
    "Skewness indicates the asymmetry or lack of symmetry in the distribution of a dataset.  A distribution can be either positively skewed  or negatively skewed  or it can be symmetric (no skewness)."
   ]
  },
  {
   "cell_type": "markdown",
   "id": "ec96e695",
   "metadata": {},
   "source": [
    "# ans 9-\n",
    "In right skewed data the position of the median is left side of the mean."
   ]
  },
  {
   "cell_type": "markdown",
   "id": "821d5529",
   "metadata": {},
   "source": [
    "# ans 10-\n",
    "* covariance is used find the postitive and negative relation between two variables it does not have defined limit range\n",
    "whereas correlation have defined limit 1 to -1 "
   ]
  },
  {
   "cell_type": "markdown",
   "id": "902625b3",
   "metadata": {},
   "source": [
    "# ans 11-\n",
    "sample of mean is calculated as = sum of total observations / total no. of observations\n",
    "\n",
    "example of sample mean -\n",
    "* let obsevations be like - 10.20,30,40,50,50,40,30,20,10"
   ]
  },
  {
   "cell_type": "code",
   "execution_count": 10,
   "id": "1b60494a",
   "metadata": {},
   "outputs": [
    {
     "data": {
      "text/plain": [
       "30.0"
      ]
     },
     "execution_count": 10,
     "metadata": {},
     "output_type": "execute_result"
    }
   ],
   "source": [
    "df=[10,20,30,40,50,50,40,30,20,10]\n",
    "np.mean(df)"
   ]
  },
  {
   "cell_type": "markdown",
   "id": "09af7d30",
   "metadata": {},
   "source": [
    "# ans 12-\n",
    "For a normal distribution, the three main measures of central tendency — the mean, median, and mode — are all equal to each other. "
   ]
  },
  {
   "cell_type": "markdown",
   "id": "3f6d14a5",
   "metadata": {},
   "source": [
    "# ans 13-\n",
    "covariance and correlation are both similar to each other but correlation is standardised feature of covariance and it have a defined limit \n",
    "-1 to1 where covariance is not have defined limit to show the relationship."
   ]
  },
  {
   "cell_type": "markdown",
   "id": "8501e82d",
   "metadata": {},
   "source": [
    "# ans 14-\n",
    "let us understand yhis with an example- takeing two sample of sets A and B . taking an outlier in B"
   ]
  },
  {
   "cell_type": "code",
   "execution_count": 17,
   "id": "cc347c57",
   "metadata": {},
   "outputs": [
    {
     "data": {
      "text/plain": [
       "(527.2727272727273, 2081.818181818182)"
      ]
     },
     "execution_count": 17,
     "metadata": {},
     "output_type": "execute_result"
    }
   ],
   "source": [
    "A=[100,200,300,300,400,500,600,700,800,900,1000]\n",
    "B=[100,200,300,300,400,500,600,700,800,9000,10000]\n",
    "np.mean(A),np.mean(B)"
   ]
  },
  {
   "cell_type": "code",
   "execution_count": 18,
   "id": "936e1b21",
   "metadata": {},
   "outputs": [
    {
     "data": {
      "text/plain": [
       "(500.0, 500.0)"
      ]
     },
     "execution_count": 18,
     "metadata": {},
     "output_type": "execute_result"
    }
   ],
   "source": [
    "np.median(A),np.median(B)"
   ]
  },
  {
   "cell_type": "code",
   "execution_count": 19,
   "id": "3d209b07",
   "metadata": {},
   "outputs": [
    {
     "data": {
      "text/plain": [
       "(300, 300)"
      ]
     },
     "execution_count": 19,
     "metadata": {},
     "output_type": "execute_result"
    }
   ],
   "source": [
    "mode(A),mode(B)"
   ]
  },
  {
   "cell_type": "code",
   "execution_count": 21,
   "id": "cb08331b",
   "metadata": {},
   "outputs": [
    {
     "data": {
      "text/plain": [
       "(283.1347545890443, 3509.161563113482)"
      ]
     },
     "execution_count": 21,
     "metadata": {},
     "output_type": "execute_result"
    }
   ],
   "source": [
    "np.std(A),np.std(B)"
   ]
  },
  {
   "cell_type": "code",
   "execution_count": 22,
   "id": "f06e2aaf",
   "metadata": {},
   "outputs": [
    {
     "data": {
      "text/plain": [
       "(80165.28925619835, 12314214.876033057)"
      ]
     },
     "execution_count": 22,
     "metadata": {},
     "output_type": "execute_result"
    }
   ],
   "source": [
    "np.var(A),np.var(B)"
   ]
  },
  {
   "cell_type": "code",
   "execution_count": 25,
   "id": "fb46fc84",
   "metadata": {},
   "outputs": [
    {
     "data": {
      "text/plain": [
       "(900, 9900)"
      ]
     },
     "execution_count": 25,
     "metadata": {},
     "output_type": "execute_result"
    }
   ],
   "source": [
    "a_range = max(A)-min(A)\n",
    "b_range = max(B)-min(B)\n",
    "a_range,b_range"
   ]
  },
  {
   "cell_type": "code",
   "execution_count": null,
   "id": "8b0a4698",
   "metadata": {},
   "outputs": [],
   "source": []
  }
 ],
 "metadata": {
  "kernelspec": {
   "display_name": "Python 3 (ipykernel)",
   "language": "python",
   "name": "python3"
  },
  "language_info": {
   "codemirror_mode": {
    "name": "ipython",
    "version": 3
   },
   "file_extension": ".py",
   "mimetype": "text/x-python",
   "name": "python",
   "nbconvert_exporter": "python",
   "pygments_lexer": "ipython3",
   "version": "3.11.4"
  }
 },
 "nbformat": 4,
 "nbformat_minor": 5
}
