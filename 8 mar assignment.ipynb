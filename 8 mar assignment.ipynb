{
 "cells": [
  {
   "cell_type": "markdown",
   "id": "a6848db2",
   "metadata": {},
   "source": [
    "# ans - 1>\n",
    "\n",
    "The Probability Density Function (PDF) is a concept in probability theory and statistics. It's used to describe the likelihood of a continuous random variable taking on a specific value within a given range. \n"
   ]
  },
  {
   "cell_type": "markdown",
   "id": "b871ac48",
   "metadata": {},
   "source": [
    "# ans 2-\n",
    "there are 6 types od probabilty distribution are-\n",
    "* binomial distribution\n",
    "* normal distribution\n",
    "* poission distribution\n",
    "* bernouli distribution\n",
    "* normal distribution\n",
    "* log normal distribution"
   ]
  },
  {
   "cell_type": "markdown",
   "id": "e1ed70ff",
   "metadata": {},
   "source": [
    "# ans -3\n",
    "python function to calculate pdf of normal distribution\n",
    "* pdf = (1/(std*sqrt(2*pi))) * e^-1/2 * (x-u/std)^2"
   ]
  },
  {
   "cell_type": "markdown",
   "id": "a397a0dd",
   "metadata": {},
   "source": [
    "# ans 4-\n",
    "properties are -\n",
    "* outcome is binary 0,1\n",
    "* every experiment is independent\n",
    "* experiment performed for n trials\n"
   ]
  },
  {
   "cell_type": "markdown",
   "id": "7d9c0aa9",
   "metadata": {},
   "source": [
    "# ans 5-"
   ]
  },
  {
   "cell_type": "code",
   "execution_count": 5,
   "id": "2801c362",
   "metadata": {},
   "outputs": [
    {
     "name": "stdout",
     "output_type": "stream",
     "text": [
      "[1 0 0 0 0 0 1 0 1 0 1 0 1 0 0 0 0 1 0 1 1 0 0 0 0 0 0 1 0 0 0 0 1 1 1 0 1\n",
      " 1 0 0 0 0 0 0 1 1 1 1 0 0 1 0 1 1 1 0 1 1 0 0 0 1 0 0 1 0 0 1 1 1 0 0 0 1\n",
      " 0 1 1 0 0 1 0 0 1 1 0 1 0 1 1 1 1 0 0 0 0 0 0 1 0 1 0 0 0 0 0 1 0 1 1 0 1\n",
      " 0 0 0 0 0 0 0 1 0 0 0 0 0 1 0 0 1 1 1 0 0 0 1 1 1 0 0 0 0 0 1 1 0 1 0 0 1\n",
      " 1 1 0 1 0 0 0 0 0 0 0 1 1 0 0 0 1 1 0 0 1 0 1 0 1 1 0 1 0 1 1 0 1 0 0 0 0\n",
      " 0 0 1 1 0 0 1 0 1 1 0 1 0 1 0 0 1 0 1 0 0 0 0 0 0 1 1 0 1 0 1 1 1 1 0 0 0\n",
      " 0 0 0 1 0 0 0 1 0 0 1 0 1 0 1 0 0 0 0 1 0 1 0 0 0 0 0 1 0 0 0 0 0 1 0 0 0\n",
      " 1 1 0 1 0 1 1 0 1 0 1 1 1 0 0 1 1 0 0 1 1 1 0 0 1 0 1 0 0 0 0 0 0 0 1 1 0\n",
      " 0 1 0 1 0 0 1 1 0 1 0 1 1 0 1 1 0 1 0 0 1 1 1 1 1 0 1 1 1 1 1 0 0 0 0 0 0\n",
      " 1 0 0 0 0 1 1 1 1 1 0 1 0 0 1 0 1 1 1 0 1 0 0 1 1 1 0 0 0 1 0 0 0 1 0 0 1\n",
      " 0 0 0 1 1 0 1 0 1 0 1 0 0 0 1 0 0 0 0 1 0 0 1 1 0 0 0 0 0 0 0 0 1 1 0 0 0\n",
      " 0 1 0 0 0 0 0 0 0 1 0 0 1 1 0 1 0 0 0 0 0 1 0 0 0 0 1 0 1 0 1 0 1 0 1 1 0\n",
      " 1 1 1 1 1 0 0 0 1 1 1 0 1 0 0 0 1 1 0 0 1 0 1 0 0 0 0 0 1 0 1 0 0 0 1 1 0\n",
      " 0 1 0 1 1 0 0 1 0 0 1 1 0 1 1 0 1 0 0 1 1 1 0 0 1 0 1 1 1 1 1 0 0 1 1 1 0\n",
      " 0 0 0 0 0 0 0 1 0 1 0 1 1 1 0 0 0 0 1 1 1 1 0 1 0 0 0 1 0 0 0 0 0 1 0 1 1\n",
      " 1 1 0 1 0 0 0 0 1 0 1 1 0 0 1 1 0 0 0 0 0 1 1 1 0 1 0 0 0 0 0 1 1 0 0 1 0\n",
      " 1 0 1 1 0 0 0 0 1 0 1 1 1 1 0 1 1 0 0 1 0 0 0 0 1 1 0 1 0 0 0 0 0 0 0 0 1\n",
      " 0 0 0 1 0 0 0 0 0 0 0 0 0 0 1 0 0 1 1 0 0 0 0 1 0 0 0 1 0 1 1 1 0 1 1 0 0\n",
      " 0 0 0 0 0 1 0 1 1 1 0 1 1 0 0 0 1 0 1 1 0 0 1 1 0 1 1 0 0 0 0 0 0 1 0 1 0\n",
      " 1 1 0 1 1 0 1 0 0 0 0 0 1 0 1 1 0 1 0 0 0 0 1 0 0 1 0 1 1 0 1 0 0 0 0 1 1\n",
      " 0 1 0 0 0 1 0 1 0 1 1 1 0 1 1 0 1 1 1 0 0 1 0 0 0 0 0 0 1 0 1 0 0 1 1 1 1\n",
      " 1 1 0 0 0 0 0 0 0 0 1 0 0 0 0 1 0 0 0 0 1 0 0 0 0 0 1 1 0 0 0 1 0 0 0 1 1\n",
      " 0 1 1 1 1 0 1 0 1 0 0 0 0 1 1 1 0 0 1 0 0 1 1 1 0 0 0 0 0 0 1 0 0 1 0 1 0\n",
      " 1 0 0 0 0 0 0 0 1 0 0 0 0 0 0 0 0 1 1 1 0 0 0 1 0 0 0 1 0 0 0 0 0 0 0 0 0\n",
      " 1 0 0 0 1 0 0 0 1 1 0 1 0 0 0 0 0 0 0 0 0 0 0 0 1 1 0 0 1 0 0 0 1 0 1 0 0\n",
      " 0 1 0 0 0 0 1 1 0 1 1 0 0 1 0 0 0 1 1 0 0 1 1 1 1 0 0 0 0 1 0 0 0 0 0 1 1\n",
      " 1 1 0 1 0 0 0 1 0 0 0 1 0 1 1 0 1 1 0 1 0 1 0 1 0 1 0 1 0 0 1 1 1 1 0 0 1\n",
      " 1]\n"
     ]
    }
   ],
   "source": [
    "import numpy as np\n",
    "sample_size = 1000\n",
    "probability_of_success = 0.4\n",
    "\n",
    "# Generate random sample from binomial distribution\n",
    "random_sample = np.random.binomial(n=1, p=probability_of_success, size=sample_size)\n",
    "\n",
    "print(random_sample)"
   ]
  },
  {
   "cell_type": "markdown",
   "id": "cc573e6f",
   "metadata": {},
   "source": [
    "# ans 6-\n",
    " "
   ]
  },
  {
   "cell_type": "markdown",
   "id": "9d5a0179",
   "metadata": {},
   "source": [
    "cdf= e^(-mean) * mean^(k)/k!"
   ]
  },
  {
   "cell_type": "markdown",
   "id": "cd76e35d",
   "metadata": {},
   "source": [
    "# ans 7-\n",
    "* binomial distribution have fixed number of outcome 0 or 1 where as poisson distribution have  not fixed outcomes.\n",
    "* binomial distribution have fixed independent trial and  poisson distribution events in fixed time intervals."
   ]
  },
  {
   "cell_type": "code",
   "execution_count": 12,
   "id": "dee081f4",
   "metadata": {
    "scrolled": true
   },
   "outputs": [
    {
     "data": {
      "text/plain": [
       "array([ 7, 11,  8, 11,  2,  5,  7,  3,  4,  4,  6,  7,  9,  2,  3,  4,  9,\n",
       "       10,  5,  2,  3,  5,  3,  5,  6,  7,  3,  2,  5,  5,  5,  3,  3,  2,\n",
       "        4,  2,  5,  5,  7,  4,  6,  4,  3,  8,  6,  6,  5,  3,  8,  6,  6,\n",
       "        4,  1,  4,  4,  3,  3,  2, 10,  2,  7,  6,  4,  5,  1,  7,  1,  6,\n",
       "        8,  4,  7,  5,  8,  6,  4,  4,  5,  5,  5,  6,  3,  8,  4,  1,  3,\n",
       "        9,  3,  3,  6,  5,  5,  2,  4,  2,  5,  5,  6,  6,  4,  5,  5,  4,\n",
       "        4,  6,  2, 13,  4,  5,  4,  5,  4,  6,  5,  6,  2,  2,  8,  6,  7,\n",
       "        6,  5,  4,  3,  3,  6,  7,  9,  6,  6,  9,  4,  2,  4,  2,  7,  0,\n",
       "        5,  1,  3,  5,  6,  6,  4,  6,  5,  5,  6,  6,  8,  8,  3,  4,  6,\n",
       "        6,  3,  5,  7,  2,  6,  5,  4,  7,  8,  4,  7,  3,  3,  5,  4,  8,\n",
       "        7,  3,  8,  2,  4,  4,  4,  8,  4,  8,  4,  8,  3,  6,  3,  5,  8,\n",
       "        4,  2,  9, 10,  3,  5,  5,  6,  4,  8,  9, 10,  4,  3,  9,  4,  4,\n",
       "        9,  4,  9,  6,  6,  3,  4,  6,  5,  6,  2,  2,  2,  1,  5,  7,  2,\n",
       "        4, 11,  5,  4,  2,  9,  7,  4,  8,  2,  6,  3,  4, 11,  4,  5,  4,\n",
       "        6,  6,  5,  9,  4,  4,  7,  3,  8, 10,  6,  1,  5,  7,  6,  5,  6,\n",
       "        6,  7,  4,  3,  4,  7,  1,  6,  5,  5,  5,  4,  3,  7,  6,  8,  3,\n",
       "        3,  2,  2,  4,  3,  7,  1,  8,  2,  8,  6,  2,  9,  6,  3,  2,  8,\n",
       "        6,  6,  3,  3,  7,  8,  4,  2,  4,  6,  6,  6,  5,  4,  3,  4,  6,\n",
       "        5,  6,  5,  4,  8,  6,  6,  6,  5,  4,  5,  6,  2,  7,  7,  4,  4,\n",
       "        4,  3,  5,  3,  4,  2,  7,  5,  7,  4,  3,  4,  3,  7,  3,  7,  5,\n",
       "        5,  7,  5,  3,  6,  6,  5,  4,  3,  8,  4,  4,  6,  2,  8,  4,  2,\n",
       "        8,  3,  3,  4,  3,  5,  3, 10,  1,  5,  4,  6,  4, 10,  9,  4,  7,\n",
       "        5,  5,  4,  3,  3,  1,  7,  9,  7,  3,  7,  7, 12,  1,  6,  7,  3,\n",
       "        4,  1,  5,  7,  4,  4,  4,  2,  7,  6,  6,  5,  3,  5,  2,  3,  5,\n",
       "        6,  8,  6,  3,  7,  3,  5,  4,  6,  7,  6,  3,  5,  6,  5,  6,  5,\n",
       "        3,  3, 10,  9,  6,  3,  6,  5,  8,  7,  5,  5,  3,  5,  5,  2,  2,\n",
       "        5,  2,  6,  1,  8,  5, 11,  3,  4,  6, 10,  3,  6,  7,  6,  7,  4,\n",
       "        6,  6,  8,  7,  3,  4,  1,  6,  5,  5,  4,  4,  4,  6,  3, 11,  1,\n",
       "        8,  3,  7,  5,  5,  5,  2,  4, 10,  8,  6,  4,  4,  4,  7,  4,  4,\n",
       "        6,  3,  6,  6,  4,  3,  5,  8,  9,  4,  6, 11, 10,  2,  7,  3,  0,\n",
       "        6,  7,  6,  7,  8,  1,  4,  6,  7,  7,  4,  4,  4,  4,  4,  2,  5,\n",
       "        0,  5, 10, 10,  8,  2,  5,  4,  8,  3,  6,  7,  5,  5,  2,  5,  3,\n",
       "        2,  4,  5,  5,  5,  4,  3,  5,  5,  1,  2,  4,  3,  1,  3,  6,  5,\n",
       "        6,  3,  9,  4,  5,  5,  5,  7,  5,  3,  4,  5,  5,  1,  7,  7,  6,\n",
       "        3,  5,  4,  4,  7,  3,  4,  4,  5,  6,  3,  5,  1,  5,  6,  5,  1,\n",
       "        5,  6,  5,  6,  6,  5,  4,  7,  4,  3, 10,  4,  5,  5,  2,  5,  3,\n",
       "        7,  8,  5,  2,  5,  6,  6,  2,  2,  5,  5,  7,  7,  2,  4, 10,  4,\n",
       "        5,  3,  5,  4,  5,  2,  8,  5,  2,  5,  9,  8,  6,  4,  6,  8,  0,\n",
       "        7,  6,  3,  3,  0,  6,  6,  4,  1,  7,  6,  5,  8,  4,  5,  8,  3,\n",
       "        4,  5,  2,  2,  5,  6,  3,  5,  0,  7,  4,  7,  3,  6,  7,  5,  3,\n",
       "        6,  8,  8,  4,  2,  4,  8,  5,  4,  4,  5,  7,  2,  6,  7, 10,  8,\n",
       "       11,  4,  5,  5,  5,  7,  3,  5, 12,  4,  3,  5,  8,  7,  1,  2,  2,\n",
       "        4,  5,  8,  4,  4,  3,  4,  4,  7,  2,  3,  7,  5,  1,  5,  7,  7,\n",
       "        5,  4,  5,  4,  3,  7,  5,  6,  3,  7,  7,  4,  3,  2,  7,  2,  5,\n",
       "        3,  5,  6,  7,  3,  4, 11,  6,  4,  7,  5,  4,  6,  6,  5,  7,  8,\n",
       "        4,  6,  4,  3,  5,  4,  6,  5,  4,  1,  6,  2,  4,  7,  7,  5,  9,\n",
       "        4,  4,  3,  5,  4,  9,  7,  6,  1,  6,  7,  4,  9,  1,  4,  7,  7,\n",
       "        3,  6,  5,  5,  5,  6,  3,  4,  8,  3,  7,  3,  7,  7,  5,  4,  4,\n",
       "        5,  5, 10,  8,  5,  1,  2,  2,  5,  6,  8,  1,  6,  4,  6,  4,  2,\n",
       "        6,  8,  4,  9,  6,  2,  5,  8,  2,  2,  5,  6, 11,  4,  7,  4,  7,\n",
       "        4,  5,  2,  4,  6,  8,  4,  5,  5, 10,  5,  2,  9,  6,  3,  5,  4,\n",
       "       11, 10,  8,  7,  6,  8,  5,  3,  3,  8,  7,  5,  9,  7,  6,  6,  2,\n",
       "        5,  3,  5,  5,  5,  4,  4,  9,  2,  5,  3,  4,  2,  5,  5,  4,  4,\n",
       "       11,  8,  3,  5,  1,  5,  7,  4,  4,  3,  5,  2,  5,  8,  7,  3,  2,\n",
       "        9,  9,  4,  9,  5,  2,  6,  8,  5,  4,  5,  6,  4,  4,  5,  5,  6,\n",
       "        8,  2, 10,  6,  3,  4,  6,  6,  4,  4,  4,  5,  2,  7,  5,  0,  4,\n",
       "        2,  6,  4,  6,  7,  6,  5,  3,  7,  8,  3,  1,  7,  2,  4,  4,  2,\n",
       "        5,  5,  2,  3,  4,  4,  7,  8,  8,  2,  9,  3,  4,  9,  1,  7,  7,\n",
       "        2,  5,  5, 12,  2,  4,  5,  3,  3,  8,  0,  5,  5,  3])"
      ]
     },
     "execution_count": 12,
     "metadata": {},
     "output_type": "execute_result"
    }
   ],
   "source": [
    "# ans 8-\n",
    "import numpy as np\n",
    "sample_size=1000\n",
    "mean=5\n",
    "sample=np.random.poisson(mean,sample_size)\n",
    "sample"
   ]
  },
  {
   "cell_type": "code",
   "execution_count": 14,
   "id": "59ed04b5",
   "metadata": {},
   "outputs": [
    {
     "data": {
      "text/plain": [
       "5.025"
      ]
     },
     "execution_count": 14,
     "metadata": {},
     "output_type": "execute_result"
    }
   ],
   "source": [
    "np.mean(sample)"
   ]
  },
  {
   "cell_type": "code",
   "execution_count": 15,
   "id": "3dda0a28",
   "metadata": {},
   "outputs": [
    {
     "data": {
      "text/plain": [
       "4.976375"
      ]
     },
     "execution_count": 15,
     "metadata": {},
     "output_type": "execute_result"
    }
   ],
   "source": [
    "np.var(sample)"
   ]
  },
  {
   "cell_type": "markdown",
   "id": "807d577a",
   "metadata": {},
   "source": [
    "# ans 10-\n",
    "the least frequent data in a normal distribution appears in the tails of the distribution, which are the regions that are farthest away from the mean."
   ]
  },
  {
   "cell_type": "code",
   "execution_count": null,
   "id": "388285d6",
   "metadata": {},
   "outputs": [],
   "source": []
  }
 ],
 "metadata": {
  "kernelspec": {
   "display_name": "Python 3 (ipykernel)",
   "language": "python",
   "name": "python3"
  },
  "language_info": {
   "codemirror_mode": {
    "name": "ipython",
    "version": 3
   },
   "file_extension": ".py",
   "mimetype": "text/x-python",
   "name": "python",
   "nbconvert_exporter": "python",
   "pygments_lexer": "ipython3",
   "version": "3.11.4"
  }
 },
 "nbformat": 4,
 "nbformat_minor": 5
}
